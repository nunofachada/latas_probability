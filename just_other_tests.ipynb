{
 "cells": [
  {
   "cell_type": "code",
   "execution_count": 5,
   "metadata": {},
   "outputs": [],
   "source": [
    "from sympy import simplify, lambdify, latex, Symbol\n",
    "from sympy.abc import a, b, x\n",
    "from sympy.concrete.summations import summation\n",
    "import matplotlib.pyplot as plt\n",
    "import numpy as np\n",
    "from random import random\n",
    "\n",
    "p = Symbol('p', positive=True)\n",
    "\n",
    "rnd = np.random.default_rng()"
   ]
  },
  {
   "cell_type": "code",
   "execution_count": 6,
   "metadata": {},
   "outputs": [
    {
     "name": "stdout",
     "output_type": "stream",
     "text": [
      "0.046264\n"
     ]
    }
   ],
   "source": [
    "runs = 1000000\n",
    "\n",
    "total = 42\n",
    "success = 40\n",
    "draws = 41\n",
    "\n",
    "ok = 0\n",
    "\n",
    "for _ in range(runs):\n",
    "    t = total\n",
    "    s = success\n",
    "    for _ in range(draws):\n",
    "        s_true = random() < s / t\n",
    "        if s_true:\n",
    "            s -= 1\n",
    "        t -= 1\n",
    "    if s_true and s == 0:\n",
    "        ok += 1\n",
    "\n",
    "print(ok / runs)\n"
   ]
  }
 ],
 "metadata": {
  "kernelspec": {
   "display_name": "env",
   "language": "python",
   "name": "python3"
  },
  "language_info": {
   "codemirror_mode": {
    "name": "ipython",
    "version": 3
   },
   "file_extension": ".py",
   "mimetype": "text/x-python",
   "name": "python",
   "nbconvert_exporter": "python",
   "pygments_lexer": "ipython3",
   "version": "3.10.12"
  }
 },
 "nbformat": 4,
 "nbformat_minor": 2
}
