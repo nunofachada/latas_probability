{
 "cells": [
  {
   "cell_type": "markdown",
   "metadata": {},
   "source": []
  },
  {
   "cell_type": "code",
   "execution_count": 43,
   "metadata": {},
   "outputs": [],
   "source": [
    "from sympy import simplify, lambdify, latex\n",
    "from sympy.abc import p, N\n",
    "import matplotlib.pyplot as plt\n",
    "import numpy as np\n",
    "#from sympy.plotting import plot"
   ]
  },
  {
   "cell_type": "code",
   "execution_count": 44,
   "metadata": {},
   "outputs": [
    {
     "data": {
      "text/latex": [
       "$\\displaystyle p \\left(1 - p\\right)^{N} \\left(\\frac{- \\left(1 - p\\right)^{- N - 1} \\left(N + 1\\right) + \\frac{1}{1 - p}}{1 - \\frac{1}{1 - p}} + \\frac{1 - \\left(1 - p\\right)^{- N}}{\\left(1 - p\\right)^{2} \\left(1 - \\frac{1}{1 - p}\\right)^{2}}\\right)$"
      ],
      "text/plain": [
       "p*(1 - p)**N*((-(1 - p)**(-N - 1)*(N + 1) + 1/(1 - p))/(1 - 1/(1 - p)) + (1 - 1/(1 - p)**N)/((1 - p)**2*(1 - 1/(1 - p))**2))"
      ]
     },
     "execution_count": 44,
     "metadata": {},
     "output_type": "execute_result"
    }
   ],
   "source": [
    "\n",
    "f1 = p*(1-p)**(N) * (((1-p)**(-1)-(1+N)*((1-p)**(-N-1)))/(1-(1-p)**(-1)) + ((1-p)**(-2))*(1-(1-p)**(-N))/((1-(1-p)**(-1))**2))\n",
    "\n",
    "f1"
   ]
  },
  {
   "cell_type": "code",
   "execution_count": 45,
   "metadata": {},
   "outputs": [
    {
     "data": {
      "text/latex": [
       "$\\displaystyle \\frac{p \\left(N - \\left(1 - p\\right)^{N} + 1\\right) + \\left(1 - p\\right)^{N} - 1}{p}$"
      ],
      "text/plain": [
       "(p*(N - (1 - p)**N + 1) + (1 - p)**N - 1)/p"
      ]
     },
     "execution_count": 45,
     "metadata": {},
     "output_type": "execute_result"
    }
   ],
   "source": [
    "f2 = simplify(f1)\n",
    "\n",
    "f2"
   ]
  },
  {
   "cell_type": "code",
   "execution_count": 46,
   "metadata": {},
   "outputs": [
    {
     "data": {
      "text/plain": [
       "'\\\\frac{p \\\\left(N - \\\\left(1 - p\\\\right)^{N} + 1\\\\right) + \\\\left(1 - p\\\\right)^{N} - 1}{p}'"
      ]
     },
     "execution_count": 46,
     "metadata": {},
     "output_type": "execute_result"
    }
   ],
   "source": [
    "latex(f2)"
   ]
  },
  {
   "cell_type": "code",
   "execution_count": 47,
   "metadata": {},
   "outputs": [],
   "source": [
    "f3 = N + ((1-p)**(N+1)-(1-p))/p"
   ]
  },
  {
   "cell_type": "code",
   "execution_count": 48,
   "metadata": {},
   "outputs": [],
   "source": [
    "fun1 = lambdify((p, N), f1)\n",
    "fun2 = lambdify((p, N), f2)\n",
    "fun3 = lambdify((p, N), f3)\n",
    "\n",
    "fun1v = np.vectorize(fun1, excluded=['N'])\n",
    "fun2v = np.vectorize(fun2, excluded=['N'])\n",
    "fun3v = np.vectorize(fun3, excluded=['N'])"
   ]
  },
  {
   "cell_type": "code",
   "execution_count": 49,
   "metadata": {},
   "outputs": [
    {
     "name": "stdout",
     "output_type": "stream",
     "text": [
      "99.57142857142858\n",
      "99.57142857142856\n",
      "99.57142857142857\n"
     ]
    }
   ],
   "source": [
    "p_=0.7\n",
    "N_=100\n",
    "print(fun1(p_, N_))\n",
    "print(fun2(p_, N_))\n",
    "print(fun3(p_, N_))"
   ]
  },
  {
   "cell_type": "code",
   "execution_count": 50,
   "metadata": {},
   "outputs": [
    {
     "data": {
      "image/png": "[encoded data removed]",
      "text/plain": [
       "<Figure size 640x480 with 1 Axes>"
      ]
     },
     "metadata": {},
     "output_type": "display_data"
    }
   ],
   "source": [
    "#plot(f2.subs(N, 100), (p, 0.1, 0.9)) #, ylim=(0, 100))\n",
    "\n",
    "ps = np.linspace(0.001,0.999,1000)\n",
    "fig, ax = plt.subplots()\n",
    "ax.plot(ps, fun1v(ps, N_), label='f1')\n",
    "ax.plot(ps, fun2v(ps, N_), label='f2')\n",
    "ax.plot(ps, fun3v(ps, N_), label='f3')\n",
    "ax.legend()\n",
    "ax.grid()"
   ]
  }
 ],
 "metadata": {
  "kernelspec": {
   "display_name": "env",
   "language": "python",
   "name": "python3"
  },
  "language_info": {
   "codemirror_mode": {
    "name": "ipython",
    "version": 3
   },
   "file_extension": ".py",
   "mimetype": "text/x-python",
   "name": "python",
   "nbconvert_exporter": "python",
   "pygments_lexer": "ipython3",
   "version": "3.10.12"
  },
  "orig_nbformat": 4
 },
 "nbformat": 4,
 "nbformat_minor": 2
}
