{
 "cells": [
  {
   "cell_type": "markdown",
   "metadata": {},
   "source": []
  },
  {
   "cell_type": "code",
   "execution_count": 198,
   "metadata": {},
   "outputs": [],
   "source": [
    "from sympy import simplify, lambdify, latex, Symbol\n",
    "from sympy.abc import k, n, c\n",
    "from sympy.concrete.summations import summation\n",
    "import matplotlib.pyplot as plt\n",
    "import numpy as np\n",
    "#from sympy.plotting import plot\n",
    "\n",
    "p = Symbol('p', positive=True)"
   ]
  },
  {
   "cell_type": "code",
   "execution_count": 199,
   "metadata": {},
   "outputs": [
    {
     "data": {
      "text/latex": [
       "$\\displaystyle p \\left(1 - p\\right)^{- k + n}$"
      ],
      "text/plain": [
       "p*(1 - p)**(-k + n)"
      ]
     },
     "execution_count": 199,
     "metadata": {},
     "output_type": "execute_result"
    }
   ],
   "source": [
    "pmf = p * (1 - p) ** (n - k)\n",
    "\n",
    "pmf"
   ]
  },
  {
   "cell_type": "code",
   "execution_count": 200,
   "metadata": {},
   "outputs": [
    {
     "data": {
      "text/plain": [
       "'p \\\\left(1 - p\\\\right)^{- k + n}'"
      ]
     },
     "execution_count": 200,
     "metadata": {},
     "output_type": "execute_result"
    }
   ],
   "source": [
    "latex(pmf)"
   ]
  },
  {
   "cell_type": "code",
   "execution_count": 201,
   "metadata": {},
   "outputs": [
    {
     "data": {
      "text/latex": [
       "$\\displaystyle p \\left(1 - p\\right)^{n} \\left(\\frac{- \\left(1 - p\\right)^{- n - 1} \\left(n + 1\\right) + \\frac{1}{1 - p}}{1 - \\frac{1}{1 - p}} + \\frac{1 - \\left(1 - p\\right)^{- n}}{\\left(1 - p\\right)^{2} \\left(1 - \\frac{1}{1 - p}\\right)^{2}}\\right)$"
      ],
      "text/plain": [
       "p*(1 - p)**n*((-(1 - p)**(-n - 1)*(n + 1) + 1/(1 - p))/(1 - 1/(1 - p)) + (1 - 1/(1 - p)**n)/((1 - p)**2*(1 - 1/(1 - p))**2))"
      ]
     },
     "execution_count": 201,
     "metadata": {},
     "output_type": "execute_result"
    }
   ],
   "source": [
    "\n",
    "f1 = p*(1-p)**(n) * (((1-p)**(-1)-(1+n)*((1-p)**(-n-1)))/(1-(1-p)**(-1)) + ((1-p)**(-2))*(1-(1-p)**(-n))/((1-(1-p)**(-1))**2))\n",
    "\n",
    "f1"
   ]
  },
  {
   "cell_type": "code",
   "execution_count": 202,
   "metadata": {},
   "outputs": [
    {
     "data": {
      "text/latex": [
       "$\\displaystyle \\frac{p \\left(n - \\left(1 - p\\right)^{n} + 1\\right) + \\left(1 - p\\right)^{n} - 1}{p}$"
      ],
      "text/plain": [
       "(p*(n - (1 - p)**n + 1) + (1 - p)**n - 1)/p"
      ]
     },
     "execution_count": 202,
     "metadata": {},
     "output_type": "execute_result"
    }
   ],
   "source": [
    "f2 = simplify(f1)\n",
    "\n",
    "f2"
   ]
  },
  {
   "cell_type": "code",
   "execution_count": 203,
   "metadata": {},
   "outputs": [
    {
     "data": {
      "text/plain": [
       "'\\\\frac{p \\\\left(n - \\\\left(1 - p\\\\right)^{n} + 1\\\\right) + \\\\left(1 - p\\\\right)^{n} - 1}{p}'"
      ]
     },
     "execution_count": 203,
     "metadata": {},
     "output_type": "execute_result"
    }
   ],
   "source": [
    "latex(f2)"
   ]
  },
  {
   "cell_type": "code",
   "execution_count": 204,
   "metadata": {},
   "outputs": [
    {
     "data": {
      "text/latex": [
       "$\\displaystyle n + \\frac{p + \\left(1 - p\\right)^{n + 1} - 1}{p}$"
      ],
      "text/plain": [
       "n + (p + (1 - p)**(n + 1) - 1)/p"
      ]
     },
     "execution_count": 204,
     "metadata": {},
     "output_type": "execute_result"
    }
   ],
   "source": [
    "f3 = n + ((1-p)**(n+1)-(1-p))/p\n",
    "\n",
    "f3"
   ]
  },
  {
   "cell_type": "code",
   "execution_count": 205,
   "metadata": {},
   "outputs": [
    {
     "data": {
      "text/latex": [
       "$\\displaystyle n - \\left(1 - p\\right)^{n} + 1 + \\frac{\\left(1 - p\\right)^{n}}{p} - \\frac{1}{p}$"
      ],
      "text/plain": [
       "n - (1 - p)**n + 1 + (1 - p)**n/p - 1/p"
      ]
     },
     "execution_count": 205,
     "metadata": {},
     "output_type": "execute_result"
    }
   ],
   "source": [
    "f4s = summation(k * pmf, (k, 0, n))\n",
    "f4 = simplify(f4s)\n",
    "f4"
   ]
  },
  {
   "cell_type": "code",
   "execution_count": 206,
   "metadata": {},
   "outputs": [],
   "source": [
    "fun1 = lambdify((p, n), f1)\n",
    "fun2 = lambdify((p, n), f2)\n",
    "fun3 = lambdify((p, n), f3)\n",
    "fun4 = lambdify((p, n), f4)\n",
    "\n",
    "fun1v = np.vectorize(fun1, excluded=['n'])\n",
    "fun2v = np.vectorize(fun2, excluded=['n'])\n",
    "fun3v = np.vectorize(fun3, excluded=['n'])\n",
    "fun4v = np.vectorize(fun4, excluded=['n'])"
   ]
  },
  {
   "cell_type": "code",
   "execution_count": 207,
   "metadata": {},
   "outputs": [
    {
     "name": "stdout",
     "output_type": "stream",
     "text": [
      "99.57142857142858\n",
      "99.57142857142856\n",
      "99.57142857142857\n",
      "99.57142857142857\n"
     ]
    }
   ],
   "source": [
    "_p=0.7\n",
    "_n=100\n",
    "print(fun1(_p, _n))\n",
    "print(fun2(_p, _n))\n",
    "print(fun3(_p, _n))\n",
    "print(fun4(_p, _n))"
   ]
  },
  {
   "cell_type": "code",
   "execution_count": 208,
   "metadata": {},
   "outputs": [
    {
     "data": {
      "image/png": "[encoded data removed]",
      "text/plain": [
       "<Figure size 640x480 with 1 Axes>"
      ]
     },
     "metadata": {},
     "output_type": "display_data"
    }
   ],
   "source": [
    "#plot(f2.subs(N, 100), (p, 0.1, 0.9)) #, ylim=(0, 100))\n",
    "\n",
    "ps = np.linspace(0.001,0.999,1000)\n",
    "fig, ax = plt.subplots()\n",
    "ax.plot(ps, fun1v(ps, _n), label='f1')\n",
    "ax.plot(ps, fun2v(ps, _n), label='f2')\n",
    "ax.plot(ps, fun3v(ps, _n), label='f3')\n",
    "ax.plot(ps, fun4v(ps, _n), label='f4')\n",
    "ax.legend()\n",
    "ax.set_xlabel(\"$p$ - Probability\")\n",
    "ax.set_ylabel(\"$E[k]$ - Expected value of $k$\")\n",
    "ax.set_title(f\"$n={_n}$\")\n",
    "ax.grid()"
   ]
  },
  {
   "cell_type": "code",
   "execution_count": 209,
   "metadata": {},
   "outputs": [
    {
     "data": {
      "text/latex": [
       "$\\displaystyle - \\frac{\\left(n p - p \\left(1 - p\\right)^{n} + p + \\left(1 - p\\right)^{n} - 1\\right)^{2}}{p^{2}} + \\frac{n^{2} p^{2} + 2 n p^{2} - 2 n p - p^{2} \\left(1 - p\\right)^{n} + p^{2} + 3 p \\left(1 - p\\right)^{n} - 3 p - 2 \\left(1 - p\\right)^{n} + 2}{p^{2}}$"
      ],
      "text/plain": [
       "-(n*p - p*(1 - p)**n + p + (1 - p)**n - 1)**2/p**2 + (n**2*p**2 + 2*n*p**2 - 2*n*p - p**2*(1 - p)**n + p**2 + 3*p*(1 - p)**n - 3*p - 2*(1 - p)**n + 2)/p**2"
      ]
     },
     "execution_count": 209,
     "metadata": {},
     "output_type": "execute_result"
    }
   ],
   "source": [
    "# Variance\n",
    "fv = summation((k**2)*p*(1-p)**(n-k), (k, 0, n))-f4s**2\n",
    "fv"
   ]
  },
  {
   "cell_type": "code",
   "execution_count": 210,
   "metadata": {},
   "outputs": [
    {
     "data": {
      "text/latex": [
       "$\\displaystyle 2 n \\left(1 - p\\right)^{n} - \\frac{2 n \\left(1 - p\\right)^{n}}{p} - \\left(1 - p\\right)^{2 n} + \\left(1 - p\\right)^{n} + \\frac{2 \\left(1 - p\\right)^{2 n}}{p} - \\frac{\\left(1 - p\\right)^{n}}{p} - \\frac{1}{p} - \\frac{\\left(1 - p\\right)^{2 n}}{p^{2}} + \\frac{1}{p^{2}}$"
      ],
      "text/plain": [
       "2*n*(1 - p)**n - 2*n*(1 - p)**n/p - (1 - p)**(2*n) + (1 - p)**n + 2*(1 - p)**(2*n)/p - (1 - p)**n/p - 1/p - (1 - p)**(2*n)/p**2 + p**(-2)"
      ]
     },
     "execution_count": 210,
     "metadata": {},
     "output_type": "execute_result"
    }
   ],
   "source": [
    "simplify(fv)"
   ]
  },
  {
   "cell_type": "code",
   "execution_count": 211,
   "metadata": {},
   "outputs": [
    {
     "data": {
      "image/png": "[encoded data removed]",
      "text/plain": [
       "<Figure size 640x480 with 1 Axes>"
      ]
     },
     "metadata": {},
     "output_type": "display_data"
    }
   ],
   "source": [
    "fvl = lambdify((p, n), fv)\n",
    "\n",
    "#fvl(0.5, 10)\n",
    "fvv = np.vectorize(fvl, excluded=['n', 'k'])\n",
    "#_n = 2\n",
    "ps = np.linspace(0.01,0.99,100)\n",
    "fig, ax = plt.subplots()\n",
    "ax.plot(ps, fvv(ps, _n), label='fv')\n",
    "#ax.plot(ps, -(ps-0.5)**2+0.25, label='mine')\n",
    "#ax.plot(ps, -np.power(fun2v(ps, N_), 2), label='EV^2')\n",
    "ax.set_xlabel(\"$p$ - Probability\")\n",
    "ax.set_ylabel(\"$V[k]$ - Variance of $k$\")\n",
    "ax.set_title(f\"$n={_n}$\")\n",
    "\n",
    "ax.legend()\n",
    "ax.grid()"
   ]
  }
 ],
 "metadata": {
  "kernelspec": {
   "display_name": "env",
   "language": "python",
   "name": "python3"
  },
  "language_info": {
   "codemirror_mode": {
    "name": "ipython",
    "version": 3
   },
   "file_extension": ".py",
   "mimetype": "text/x-python",
   "name": "python",
   "nbconvert_exporter": "python",
   "pygments_lexer": "ipython3",
   "version": "3.10.12"
  },
  "orig_nbformat": 4
 },
 "nbformat": 4,
 "nbformat_minor": 2
}
