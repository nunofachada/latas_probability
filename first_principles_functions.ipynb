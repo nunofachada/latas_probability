{
 "cells": [
  {
   "cell_type": "code",
   "execution_count": 234,
   "metadata": {},
   "outputs": [],
   "source": [
    "from sympy import Function, Symbol, symbols, simplify, expand, factor, lambdify\n",
    "from sympy.concrete.summations import summation, Sum\n",
    "import numpy as np\n",
    "\n",
    "n, k = symbols('n, k', integer=True, nonnegative=True)\n",
    "p = Symbol('p', positive=True, real=True)\n",
    "f = Function('f')(k)\n",
    "# k = Symbol('k', nonnegative=True, integer=True)\n"
   ]
  },
  {
   "cell_type": "code",
   "execution_count": 235,
   "metadata": {},
   "outputs": [
    {
     "data": {
      "text/latex": [
       "$\\displaystyle \\sum_{k=0}^{n} k f{\\left(k \\right)}$"
      ],
      "text/plain": [
       "Sum(k*f(k), (k, 0, n))"
      ]
     },
     "execution_count": 235,
     "metadata": {},
     "output_type": "execute_result"
    }
   ],
   "source": [
    "# The generic expected value function\n",
    "ex = Sum(k * f, (k, 0, n))\n",
    "\n",
    "ex"
   ]
  },
  {
   "cell_type": "code",
   "execution_count": 236,
   "metadata": {},
   "outputs": [
    {
     "data": {
      "text/latex": [
       "$\\displaystyle p \\left(1 - p\\right)^{- k + n}$"
      ],
      "text/plain": [
       "p*(1 - p)**(-k + n)"
      ]
     },
     "execution_count": 236,
     "metadata": {},
     "output_type": "execute_result"
    }
   ],
   "source": [
    "# Our PMF\n",
    "pmf = p * (1 - p) ** (n - k)\n",
    "\n",
    "pmf"
   ]
  },
  {
   "cell_type": "code",
   "execution_count": 237,
   "metadata": {},
   "outputs": [],
   "source": [
    "ex_mine = ex.subs(f, pmf)"
   ]
  },
  {
   "cell_type": "code",
   "execution_count": 238,
   "metadata": {},
   "outputs": [
    {
     "data": {
      "text/latex": [
       "$\\displaystyle \\sum_{k=0}^{n} k p \\left(1 - p\\right)^{- k + n}$"
      ],
      "text/plain": [
       "Sum(k*p*(1 - p)**(-k + n), (k, 0, n))"
      ]
     },
     "execution_count": 238,
     "metadata": {},
     "output_type": "execute_result"
    }
   ],
   "source": [
    "ex_mine"
   ]
  },
  {
   "cell_type": "code",
   "execution_count": 239,
   "metadata": {},
   "outputs": [
    {
     "data": {
      "text/latex": [
       "$\\displaystyle \\frac{n p - p \\left(1 - p\\right)^{n} + p + \\left(1 - p\\right)^{n} - 1}{p}$"
      ],
      "text/plain": [
       "(n*p - p*(1 - p)**n + p + (1 - p)**n - 1)/p"
      ]
     },
     "execution_count": 239,
     "metadata": {},
     "output_type": "execute_result"
    }
   ],
   "source": [
    "simplify(factor(ex_mine))"
   ]
  },
  {
   "cell_type": "code",
   "execution_count": 240,
   "metadata": {},
   "outputs": [
    {
     "data": {
      "text/latex": [
       "$\\displaystyle \\frac{n p - p \\left(1 - p\\right)^{n} + p + \\left(1 - p\\right)^{n} - 1}{p}$"
      ],
      "text/plain": [
       "(n*p - p*(1 - p)**n + p + (1 - p)**n - 1)/p"
      ]
     },
     "execution_count": 240,
     "metadata": {},
     "output_type": "execute_result"
    }
   ],
   "source": [
    "summation(k * pmf, (k, 0, n))"
   ]
  },
  {
   "cell_type": "code",
   "execution_count": 241,
   "metadata": {},
   "outputs": [
    {
     "data": {
      "text/latex": [
       "$\\displaystyle \\sum_{k=0}^{n} k^{2} p \\left(1 - p\\right)^{- k + n}$"
      ],
      "text/plain": [
       "Sum(k**2*p*(1 - p)**(-k + n), (k, 0, n))"
      ]
     },
     "execution_count": 241,
     "metadata": {},
     "output_type": "execute_result"
    }
   ],
   "source": [
    "#pmf_sqrd = pmf.subs(k, k ** 2)\n",
    "ex_mine_sqrd = Sum(k ** 2 * f, (k, 0, n)).subs(f, pmf)\n",
    "ex_mine_sqrd"
   ]
  },
  {
   "cell_type": "code",
   "execution_count": 242,
   "metadata": {},
   "outputs": [
    {
     "data": {
      "text/latex": [
       "$\\displaystyle - \\left(\\sum_{k=0}^{n} k p \\left(1 - p\\right)^{- k + n}\\right)^{2} + \\sum_{k=0}^{n} k^{2} p \\left(1 - p\\right)^{- k + n}$"
      ],
      "text/plain": [
       "-Sum(k*p*(1 - p)**(-k + n), (k, 0, n))**2 + Sum(k**2*p*(1 - p)**(-k + n), (k, 0, n))"
      ]
     },
     "execution_count": 242,
     "metadata": {},
     "output_type": "execute_result"
    }
   ],
   "source": [
    "var = ex_mine_sqrd - ex_mine ** 2\n",
    "\n",
    "var"
   ]
  },
  {
   "cell_type": "code",
   "execution_count": 243,
   "metadata": {},
   "outputs": [
    {
     "data": {
      "text/latex": [
       "$\\displaystyle p \\left(- \\frac{\\left(n p - p \\left(1 - p\\right)^{n} + p + \\left(1 - p\\right)^{n} - 1\\right)^{2}}{p^{3}} + \\frac{n^{2} p^{2} + 2 n p^{2} - 2 n p - p^{2} \\left(1 - p\\right)^{n} + p^{2} + 3 p \\left(1 - p\\right)^{n} - 3 p - 2 \\left(1 - p\\right)^{n} + 2}{p^{3}}\\right)$"
      ],
      "text/plain": [
       "p*(-(n*p - p*(1 - p)**n + p + (1 - p)**n - 1)**2/p**3 + (n**2*p**2 + 2*n*p**2 - 2*n*p - p**2*(1 - p)**n + p**2 + 3*p*(1 - p)**n - 3*p - 2*(1 - p)**n + 2)/p**3)"
      ]
     },
     "execution_count": 243,
     "metadata": {},
     "output_type": "execute_result"
    }
   ],
   "source": [
    "simplify(factor(var))"
   ]
  },
  {
   "cell_type": "code",
   "execution_count": 244,
   "metadata": {},
   "outputs": [],
   "source": [
    "fvar = lambdify((p, n), var)\n",
    "fvarvec = np.vectorize(fvar, excluded=['n'])"
   ]
  },
  {
   "cell_type": "code",
   "execution_count": 245,
   "metadata": {},
   "outputs": [
    {
     "data": {
      "image/png": "[encoded data removed]",
      "text/plain": [
       "<Figure size 640x480 with 1 Axes>"
      ]
     },
     "metadata": {},
     "output_type": "display_data"
    }
   ],
   "source": [
    "import matplotlib.pyplot as plt\n",
    "\n",
    "_n = 100\n",
    "ps = np.linspace(0.0,1,1000)\n",
    "fig, ax = plt.subplots()\n",
    "ax.plot(ps, fvarvec(ps, _n), label='fv')\n",
    "#ax.plot(ps, -np.power(fun2v(ps, N_), 2), label='EV^2')\n",
    "ax.legend()\n",
    "ax.grid()"
   ]
  }
 ],
 "metadata": {
  "kernelspec": {
   "display_name": "env",
   "language": "python",
   "name": "python3"
  },
  "language_info": {
   "codemirror_mode": {
    "name": "ipython",
    "version": 3
   },
   "file_extension": ".py",
   "mimetype": "text/x-python",
   "name": "python",
   "nbconvert_exporter": "python",
   "pygments_lexer": "ipython3",
   "version": "3.10.12"
  }
 },
 "nbformat": 4,
 "nbformat_minor": 2
}
